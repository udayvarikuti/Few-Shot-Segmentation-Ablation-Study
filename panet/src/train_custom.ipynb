{
 "cells": [
  {
   "cell_type": "code",
   "execution_count": 1,
   "metadata": {},
   "outputs": [
    {
     "name": "stderr",
     "output_type": "stream",
     "text": [
      "/home/prasad/anaconda3/envs/aec/lib/python3.9/site-packages/tqdm/auto.py:22: TqdmWarning: IProgress not found. Please update jupyter and ipywidgets. See https://ipywidgets.readthedocs.io/en/stable/user_install.html\n",
      "  from .autonotebook import tqdm as notebook_tqdm\n"
     ]
    }
   ],
   "source": [
    "import torch\n",
    "import torch.nn as nn\n",
    "import torch.optim\n",
    "from torch.utils.data import DataLoader\n",
    "from torch.optim.lr_scheduler import MultiStepLR\n",
    "from torchvision.transforms import Compose\n",
    "from models.fewshot import FewShotSeg\n",
    "from dataloaders.customized import voc_fewshot, coco_fewshot\n",
    "from dataloaders.transforms import RandomMirror, Resize, ToTensorNormalize\n",
    "from util.utils import set_seed, CLASS_LABELS\n",
    "import torch.optim as optim"
   ]
  },
  {
   "cell_type": "code",
   "execution_count": 2,
   "metadata": {},
   "outputs": [],
   "source": [
    "USE_GPU = True\n",
    "\n",
    "dtype = torch.float32 # we will be using float throughout this tutorial\n",
    "\n",
    "if USE_GPU and torch.cuda.is_available():\n",
    "    device = torch.device('cuda')\n",
    "    #set the device to gpu0\n",
    "    torch.cuda.set_device(device=0)\n",
    "else:\n",
    "    device = torch.device('cpu')"
   ]
  },
  {
   "cell_type": "code",
   "execution_count": 3,
   "metadata": {},
   "outputs": [],
   "source": [
    "input_size = (417, 417)\n",
    "batch_size=1\n",
    "steps=30000\n",
    "lambda_PAR=1"
   ]
  },
  {
   "cell_type": "code",
   "execution_count": 4,
   "metadata": {},
   "outputs": [],
   "source": [
    "#Get the dataset functions from here\n",
    "dataset_name=\"VOC\"\n",
    "if dataset_name == 'VOC':\n",
    "    gen_dataset = voc_fewshot\n",
    "    data_dir='../../data/Pascal/VOCdevkit/VOC2012/'\n",
    "    data_split='trainaug'\n",
    "elif dataset_name == 'COCO':\n",
    "    gen_dataset = coco_fewshot\n",
    "    data_dir='../../data/COCO/'\n",
    "    data_split='train'\n",
    "# else: \n",
    "#     dataset=cityscape_fewshot\n",
    "\n",
    "labels = CLASS_LABELS[dataset_name][0]\n",
    "transforms = Compose([Resize(size=input_size),\n",
    "                        RandomMirror()])\n",
    "dataset = gen_dataset(\n",
    "    base_dir=data_dir,\n",
    "    split=data_split,\n",
    "    transforms=transforms,\n",
    "    to_tensor=ToTensorNormalize(),\n",
    "    labels=labels,\n",
    "    max_iters=batch_size*steps,\n",
    "    n_ways=1,\n",
    "    n_shots=1,\n",
    "    n_queries=1\n",
    ")\n",
    "\n",
    "train_loader = DataLoader(\n",
    "    dataset,\n",
    "    batch_size=batch_size,\n",
    "    shuffle=True,\n",
    "    num_workers=1,\n",
    "    pin_memory=True,\n",
    "    drop_last=True\n",
    ")"
   ]
  },
  {
   "cell_type": "code",
   "execution_count": 5,
   "metadata": {},
   "outputs": [],
   "source": [
    "print_every=100\n",
    "def train_model(model, optimizer, scheduler ,epochs=1):\n",
    "\n",
    "    train_loss={}\n",
    "    #lossfn=nn.CosineEmbeddingLoss(margin=0,reduction=\"mean\")\n",
    "    lossfn=nn.MSELoss()\n",
    "    model = model.to(device=device)  # move the model parameters to CPU/GPU\n",
    "    train_loss[\"loss_query\"]=0\n",
    "    train_loss[\"loss_PAR\"]=0\n",
    "    for e in range(epochs):\n",
    "        lossq=0\n",
    "        losspar=0\n",
    "        for t,samples in enumerate(train_loader):\n",
    "            \n",
    "           #get a list of support images ( Sx W x H x W)\n",
    "            support_img=[[shot.cuda() for shot in way]\n",
    "                          for way in samples['support_images']]\n",
    "            fg_mask=[[shot[f'fg_mask'].float().cuda() for shot in way]\n",
    "                           for way in samples['support_mask']]\n",
    "            bg_mask=[[shot[f'bg_mask'].float().cuda() for shot in way]\n",
    "                           for way in samples['support_mask']]\n",
    "            query_img= [query.cuda()\n",
    "                        for query in samples['query_images']]\n",
    "\n",
    "            query_gt = torch.cat([queryGT.long().cuda()\n",
    "                        for queryGT in samples['query_labels']], dim=0)\n",
    "\n",
    "            # Zero out all of the gradients for the variables which the optimizer\n",
    "            # will update.\n",
    "            optimizer.zero_grad()\n",
    "\n",
    "            #get the predicted query and the Prototype alignment loss\n",
    "            pred_query,lossPAR= model(support_img,fg_mask,bg_mask,query_img)\n",
    "\n",
    "            lossQ= criterion(pred_query,query_gt)\n",
    "\n",
    "            loss = lossQ+ lossPAR * lambda_PAR\n",
    "            # This is the backwards pass: compute the gradient of the loss with\n",
    "            # respect to each  parameter of the model.\n",
    "            loss.backward()\n",
    "\n",
    "            # Actually update the parameters of the model using the gradients\n",
    "            # computed by the backwards pass.\n",
    "            optimizer.step()\n",
    "\n",
    "            scheduler.step()\n",
    "\n",
    "            lossq+=lossQ.detach().cpu().numpy()\n",
    "            losspar+=lossPAR.detach().cpu().numpy()\n",
    "\n",
    "            if (t+1) % print_every == 0:\n",
    "                print('Epoch %d, Iteration %d, loss = %.8f' % (e, t, (lossq/(t+1))))\n",
    "                print('Epoch %d, Iteration %d, loss = %.8f' % (e, t, (losspar/(t+1))))\n",
    "\n",
    "        train_loss[\"loss_query\"]=lossq/len(train_loader)\n",
    "        train_loss[\"loss_PAR\"]=losspar/len(train_loader)\n",
    "\n",
    "    return (train_loss)"
   ]
  },
  {
   "cell_type": "code",
   "execution_count": 6,
   "metadata": {},
   "outputs": [
    {
     "name": "stderr",
     "output_type": "stream",
     "text": [
      "Using cache found in /home/prasad/.cache/torch/hub/pytorch_vision_v0.10.0\n"
     ]
    }
   ],
   "source": [
    "#cfg True means align is on\n",
    "learning_rate=1e-3\n",
    "milestones= [10000,20000,30000]\n",
    "model = FewShotSeg(cfg={'align': True})\n",
    "optimizer = torch.optim.SGD(model.parameters(),lr=learning_rate,momentum=0.9,weight_decay=0.00005)\n",
    "scheduler = MultiStepLR(optimizer, milestones=milestones, gamma=0.1)\n",
    "criterion = nn.CrossEntropyLoss(ignore_index=255)"
   ]
  },
  {
   "cell_type": "code",
   "execution_count": 7,
   "metadata": {},
   "outputs": [
    {
     "name": "stderr",
     "output_type": "stream",
     "text": [
      "/home/prasad/anaconda3/envs/aec/lib/python3.9/site-packages/torchvision/transforms/functional.py:423: UserWarning: Argument interpolation should be of type InterpolationMode instead of int. Please, use InterpolationMode enum.\n",
      "  warnings.warn(\n"
     ]
    },
    {
     "ename": "RuntimeError",
     "evalue": "Can't call numpy() on Tensor that requires grad. Use tensor.detach().numpy() instead.",
     "output_type": "error",
     "traceback": [
      "\u001b[0;31m---------------------------------------------------------------------------\u001b[0m",
      "\u001b[0;31mRuntimeError\u001b[0m                              Traceback (most recent call last)",
      "\u001b[1;32m/home/prasad/Personal/ECE285/Project/Few-Shot-Segmentation-ECE-285/panet/PANet/experiments/train_custom.ipynb Cell 7'\u001b[0m in \u001b[0;36m<cell line: 1>\u001b[0;34m()\u001b[0m\n\u001b[0;32m----> <a href='vscode-notebook-cell://ssh-remote%2B137.110.119.158/home/prasad/Personal/ECE285/Project/Few-Shot-Segmentation-ECE-285/panet/PANet/experiments/train_custom.ipynb#ch0000014vscode-remote?line=0'>1</a>\u001b[0m train_loss\u001b[39m=\u001b[39mtrain_model(model, optimizer, scheduler ,epochs\u001b[39m=\u001b[39;49m\u001b[39m1\u001b[39;49m)\n",
      "\u001b[1;32m/home/prasad/Personal/ECE285/Project/Few-Shot-Segmentation-ECE-285/panet/PANet/experiments/train_custom.ipynb Cell 5'\u001b[0m in \u001b[0;36mtrain_model\u001b[0;34m(model, optimizer, scheduler, epochs)\u001b[0m\n\u001b[1;32m     <a href='vscode-notebook-cell://ssh-remote%2B137.110.119.158/home/prasad/Personal/ECE285/Project/Few-Shot-Segmentation-ECE-285/panet/PANet/experiments/train_custom.ipynb#ch0000006vscode-remote?line=43'>44</a>\u001b[0m optimizer\u001b[39m.\u001b[39mstep()\n\u001b[1;32m     <a href='vscode-notebook-cell://ssh-remote%2B137.110.119.158/home/prasad/Personal/ECE285/Project/Few-Shot-Segmentation-ECE-285/panet/PANet/experiments/train_custom.ipynb#ch0000006vscode-remote?line=45'>46</a>\u001b[0m scheduler\u001b[39m.\u001b[39mstep()\n\u001b[0;32m---> <a href='vscode-notebook-cell://ssh-remote%2B137.110.119.158/home/prasad/Personal/ECE285/Project/Few-Shot-Segmentation-ECE-285/panet/PANet/experiments/train_custom.ipynb#ch0000006vscode-remote?line=47'>48</a>\u001b[0m lossq\u001b[39m+\u001b[39m\u001b[39m=\u001b[39mlossQ\u001b[39m.\u001b[39;49mcpu()\u001b[39m.\u001b[39;49mnumpy()\n\u001b[1;32m     <a href='vscode-notebook-cell://ssh-remote%2B137.110.119.158/home/prasad/Personal/ECE285/Project/Few-Shot-Segmentation-ECE-285/panet/PANet/experiments/train_custom.ipynb#ch0000006vscode-remote?line=48'>49</a>\u001b[0m losspar\u001b[39m+\u001b[39m\u001b[39m=\u001b[39mlossPAR\u001b[39m.\u001b[39mcpu()\u001b[39m.\u001b[39mnumpy()\n\u001b[1;32m     <a href='vscode-notebook-cell://ssh-remote%2B137.110.119.158/home/prasad/Personal/ECE285/Project/Few-Shot-Segmentation-ECE-285/panet/PANet/experiments/train_custom.ipynb#ch0000006vscode-remote?line=50'>51</a>\u001b[0m \u001b[39mif\u001b[39;00m (t\u001b[39m+\u001b[39m\u001b[39m1\u001b[39m) \u001b[39m%\u001b[39m print_every \u001b[39m==\u001b[39m \u001b[39m0\u001b[39m:\n",
      "\u001b[0;31mRuntimeError\u001b[0m: Can't call numpy() on Tensor that requires grad. Use tensor.detach().numpy() instead."
     ]
    }
   ],
   "source": [
    "train_loss=train_model(model, optimizer, scheduler ,epochs=1)"
   ]
  },
  {
   "cell_type": "code",
   "execution_count": null,
   "metadata": {},
   "outputs": [],
   "source": []
  }
 ],
 "metadata": {
  "interpreter": {
   "hash": "9f5c7ac77e593d0994949fe61f06040dedc773eb228097f0a804bc0d2d8d2f83"
  },
  "kernelspec": {
   "display_name": "Python 3.9.12 ('aec': conda)",
   "language": "python",
   "name": "python3"
  },
  "language_info": {
   "codemirror_mode": {
    "name": "ipython",
    "version": 3
   },
   "file_extension": ".py",
   "mimetype": "text/x-python",
   "name": "python",
   "nbconvert_exporter": "python",
   "pygments_lexer": "ipython3",
   "version": "3.9.12"
  },
  "orig_nbformat": 4
 },
 "nbformat": 4,
 "nbformat_minor": 2
}
